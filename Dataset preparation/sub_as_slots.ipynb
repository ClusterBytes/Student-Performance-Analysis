{
 "cells": [
  {
   "cell_type": "code",
   "execution_count": 8,
   "metadata": {},
   "outputs": [],
   "source": [
    "import pandas as pd"
   ]
  },
  {
   "cell_type": "code",
   "execution_count": 9,
   "metadata": {},
   "outputs": [],
   "source": [
    "slots=pd.read_csv(\"asset/slot_wise.csv\",header=None)\n",
    "new_header = slots.iloc[2]\n",
    "slots = slots[3:]\n",
    "slots.columns = new_header"
   ]
  },
  {
   "cell_type": "code",
   "execution_count": 10,
   "metadata": {},
   "outputs": [],
   "source": [
    "slot_mapper = {}\n",
    "for i in range(slots.shape[1]):\n",
    "\tfor j in range(slots.shape[0]):\n",
    "\t\tsub=slots.iloc[j,i]\n",
    "\t\tif not pd.isna(sub):\n",
    "\t\t\tslot_mapper[sub]=slots.columns[i]\n"
   ]
  },
  {
   "cell_type": "code",
   "execution_count": 11,
   "metadata": {},
   "outputs": [],
   "source": [
    "data=pd.read_csv(\"../Dataset/CSV-Single/3_grade_normalized.csv\")\n",
    "new_data=pd.DataFrame()"
   ]
  },
  {
   "cell_type": "code",
   "execution_count": 12,
   "metadata": {},
   "outputs": [],
   "source": [
    "for i in range(data.shape[0]):\n",
    "\td=data.iloc[i]\n",
    "\ttry:\n",
    "\t\tscheme=new_data.loc[d['Reg_No'],'Scheme']\n",
    "\texcept:\n",
    "\t\tscheme=None\n",
    "\ttry:\n",
    "\t\tdept=new_data.loc[d['Reg_No'],'Dept']\n",
    "\texcept:\n",
    "\t\tdept=None\n",
    "\n",
    "\tnew_data.loc[d['Reg_No'],'Scheme']='2015' if int(d['Year'])<2019 else '2019'\n",
    "\tnew_data.loc[d['Reg_No'],'Dept']=d.Dept\n",
    "\n",
    "\t# some student from 2015 scheme has their marks entered after 2019. So avoiding scheme mix up\n",
    "\tif new_data.loc[d['Reg_No'],'Scheme'] != scheme and scheme != None:\n",
    "\t\tnew_data.loc[d['Reg_No'],'Scheme']='2015'\n",
    "\n",
    "\t# one MECH student has his mark entered into IT data for one subject\n",
    "\tif new_data.loc[d['Reg_No'],'Dept'] != dept and dept != None:\n",
    "\t\tnew_data.loc[d['Reg_No'],'Dept']='MECH'\n",
    "\n",
    "\tsem=d.Semester\n",
    "\tif d.Subject == 'BE103':\n",
    "\t\tsem='S2'\n",
    "\telif d.Subject=='CS100':\n",
    "\t\tsem='S1'\n",
    "\t\n",
    "\tnew_data.loc[d['Reg_No'],'Dept']=d['Dept']\n",
    "\ts=slot_mapper[d.Subject]\n",
    "\tnew_data.loc[d['Reg_No'],sem+'_'+s]=d.Subject\n",
    "\tnew_data.loc[d['Reg_No'],sem+'_'+s+'_mark']=d['Internal mark']\n",
    "\tnew_data.loc[d['Reg_No'],sem+'_'+s+'_att']=d['Attendance']\n",
    "\tnew_data.loc[d['Reg_No'],sem+'_'+s+'_grade']=d['Grade']\n",
    "    "
   ]
  },
  {
   "cell_type": "code",
   "execution_count": 13,
   "metadata": {},
   "outputs": [],
   "source": [
    "new_data.to_csv('../Dataset/CSV-Single/10_finale.csv',index_label='Reg_No')"
   ]
  }
 ],
 "metadata": {
  "kernelspec": {
   "display_name": "venv",
   "language": "python",
   "name": "python3"
  },
  "language_info": {
   "codemirror_mode": {
    "name": "ipython",
    "version": 3
   },
   "file_extension": ".py",
   "mimetype": "text/x-python",
   "name": "python",
   "nbconvert_exporter": "python",
   "pygments_lexer": "ipython3",
   "version": "3.9.7"
  },
  "orig_nbformat": 4
 },
 "nbformat": 4,
 "nbformat_minor": 2
}
