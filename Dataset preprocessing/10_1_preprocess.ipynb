{
 "cells": [
  {
   "cell_type": "code",
   "execution_count": 1,
   "metadata": {},
   "outputs": [],
   "source": [
    "import pandas as pd"
   ]
  },
  {
   "cell_type": "code",
   "execution_count": 2,
   "metadata": {},
   "outputs": [],
   "source": [
    "data=pd.read_csv(\"../Dataset/CSV-Single/10_finale.csv\",index_col=\"Reg_No\")"
   ]
  },
  {
   "cell_type": "code",
   "execution_count": 3,
   "metadata": {},
   "outputs": [],
   "source": [
    "data.drop(['S1_F','S1_F_mark','S1_F_att','S1_F_grade'],axis=1,inplace=True)\n",
    "data.dropna(inplace=True)"
   ]
  },
  {
   "cell_type": "code",
   "execution_count": 4,
   "metadata": {},
   "outputs": [],
   "source": [
    "from sklearn.preprocessing import OneHotEncoder,OrdinalEncoder\n",
    "from sklearn.model_selection import train_test_split\n",
    "from sklearn.compose import ColumnTransformer\n",
    "import re\n",
    "from sklearn.base import BaseEstimator, TransformerMixin\n",
    "\n",
    "class DivideByHundred(BaseEstimator, TransformerMixin):\n",
    "    def __init__(self):\n",
    "        pass\n",
    "    def fit(self, X, y=None):\n",
    "        return self\n",
    "    def transform(self, X, y=None):\n",
    "        return X/100\n",
    "    def get_feature_names_out(self, features=None):\n",
    "        return features"
   ]
  },
  {
   "cell_type": "code",
   "execution_count": 5,
   "metadata": {},
   "outputs": [],
   "source": [
    "ohe=OneHotEncoder(sparse_output=False)\n",
    "oe=OrdinalEncoder(categories=[['F','P','D','C','C+','B','B+','A','A+','S']]*len([x for x in data.columns if re.fullmatch('^S[12]_[A-FST]_grade$',x)]))\n",
    "dbh=DivideByHundred()\n",
    "ct=ColumnTransformer([\n",
    "    (\"scheme\",ohe,['Scheme']),\n",
    "    ('dept',ohe,['Dept']),\n",
    "    ('sub',ohe,[x for x in data.columns if re.fullmatch('^S[12]_[A-FST]$',x)]),\n",
    "    ('mark_and_att',dbh,[x for x in data.columns if re.fullmatch('^S[12]_[A-FST]_(?:att|mark)$',x)]),\n",
    "    ('grade',oe,[x for x in data.columns if re.fullmatch('^S[12]_[A-FST]_grade$',x)])\n",
    "],n_jobs=-1,verbose=True,verbose_feature_names_out=False)"
   ]
  },
  {
   "cell_type": "code",
   "execution_count": 6,
   "metadata": {},
   "outputs": [],
   "source": [
    "encoded_data=pd.DataFrame(ct.fit_transform(data),index=data.index,columns=ct.get_feature_names_out())"
   ]
  },
  {
   "cell_type": "code",
   "execution_count": 7,
   "metadata": {},
   "outputs": [],
   "source": [
    "encoded_data.to_csv('../Dataset/CSV-Train/10_1.csv',index_label='Reg_No')"
   ]
  }
 ],
 "metadata": {
  "kernelspec": {
   "display_name": "venv",
   "language": "python",
   "name": "python3"
  },
  "language_info": {
   "codemirror_mode": {
    "name": "ipython",
    "version": 3
   },
   "file_extension": ".py",
   "mimetype": "text/x-python",
   "name": "python",
   "nbconvert_exporter": "python",
   "pygments_lexer": "ipython3",
   "version": "3.9.7"
  },
  "orig_nbformat": 4
 },
 "nbformat": 4,
 "nbformat_minor": 2
}
